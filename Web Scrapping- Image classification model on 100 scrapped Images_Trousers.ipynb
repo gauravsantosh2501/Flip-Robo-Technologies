{
 "cells": [
  {
   "cell_type": "markdown",
   "metadata": {},
   "source": [
    "# Importing Seleium Packages "
   ]
  },
  {
   "cell_type": "code",
   "execution_count": 56,
   "metadata": {},
   "outputs": [
    {
     "name": "stdout",
     "output_type": "stream",
     "text": [
      "Requirement already satisfied: selenium in c:\\users\\gaurav\\anaconda3\\lib\\site-packages (3.141.0)\n",
      "Requirement already satisfied: urllib3 in c:\\users\\gaurav\\anaconda3\\lib\\site-packages (from selenium) (1.24.1)\n",
      "Note: you may need to restart the kernel to use updated packages.\n"
     ]
    }
   ],
   "source": [
    "pip install selenium"
   ]
  },
  {
   "cell_type": "markdown",
   "metadata": {},
   "source": [
    "#                         Web Scrapping using Selenium with Python"
   ]
  },
  {
   "cell_type": "markdown",
   "metadata": {},
   "source": [
    "# Scraping images from Flipkart "
   ]
  },
  {
   "cell_type": "markdown",
   "metadata": {},
   "source": [
    "# Step 1 :Import the libraries and get URL of the Web Page"
   ]
  },
  {
   "cell_type": "code",
   "execution_count": 57,
   "metadata": {},
   "outputs": [],
   "source": [
    "from selenium import webdriver\n",
    "import pandas as pd \n",
    "import os"
   ]
  },
  {
   "cell_type": "code",
   "execution_count": 58,
   "metadata": {},
   "outputs": [
    {
     "name": "stdout",
     "output_type": "stream",
     "text": [
      "Requirement already satisfied: webdriver-manager in c:\\users\\gaurav\\anaconda3\\lib\\site-packages (3.2.1)\n",
      "Requirement already satisfied: crayons in c:\\users\\gaurav\\anaconda3\\lib\\site-packages (from webdriver-manager) (0.3.1)\n",
      "Requirement already satisfied: configparser in c:\\users\\gaurav\\anaconda3\\lib\\site-packages (from webdriver-manager) (5.0.0)\n",
      "Requirement already satisfied: requests in c:\\users\\gaurav\\anaconda3\\lib\\site-packages (from webdriver-manager) (2.21.0)\n",
      "Requirement already satisfied: colorama in c:\\users\\gaurav\\anaconda3\\lib\\site-packages (from crayons->webdriver-manager) (0.4.1)\n",
      "Requirement already satisfied: chardet<3.1.0,>=3.0.2 in c:\\users\\gaurav\\anaconda3\\lib\\site-packages (from requests->webdriver-manager) (3.0.4)\n",
      "Requirement already satisfied: urllib3<1.25,>=1.21.1 in c:\\users\\gaurav\\anaconda3\\lib\\site-packages (from requests->webdriver-manager) (1.24.1)\n",
      "Requirement already satisfied: idna<2.9,>=2.5 in c:\\users\\gaurav\\anaconda3\\lib\\site-packages (from requests->webdriver-manager) (2.8)\n",
      "Requirement already satisfied: certifi>=2017.4.17 in c:\\users\\gaurav\\anaconda3\\lib\\site-packages (from requests->webdriver-manager) (2019.3.9)\n",
      "Note: you may need to restart the kernel to use updated packages.\n"
     ]
    }
   ],
   "source": [
    "pip install webdriver-manager"
   ]
  },
  {
   "cell_type": "code",
   "execution_count": 47,
   "metadata": {},
   "outputs": [],
   "source": [
    "driver=webdriver.Chrome(executable_path = 'C:\\Program Files\\chromedriver.exe')"
   ]
  },
  {
   "cell_type": "code",
   "execution_count": 48,
   "metadata": {},
   "outputs": [],
   "source": [
    "my_page=driver.get(\"https://www.flipkart.com/mens-trousers/pr?sid=clo%2Cvua%2Cmle%2Clhk&page=3\")"
   ]
  },
  {
   "cell_type": "markdown",
   "metadata": {},
   "source": [
    "# Step 2 :Making the directory to store images"
   ]
  },
  {
   "cell_type": "code",
   "execution_count": 49,
   "metadata": {},
   "outputs": [],
   "source": [
    "def make_directory(dirname):\n",
    "    current_path=os.getcwd()\n",
    "    path = os.path.join(current_path,dirname)\n",
    "    if not os.path.exists(path):\n",
    "        os.makedirs(path)"
   ]
  },
  {
   "cell_type": "code",
   "execution_count": 50,
   "metadata": {},
   "outputs": [],
   "source": [
    "make_directory(\"flipkart_trousers\")"
   ]
  },
  {
   "cell_type": "markdown",
   "metadata": {},
   "source": [
    "# Step 3 : Scraping image URLs"
   ]
  },
  {
   "cell_type": "code",
   "execution_count": 51,
   "metadata": {},
   "outputs": [
    {
     "name": "stdout",
     "output_type": "stream",
     "text": [
      "[<selenium.webdriver.remote.webelement.WebElement (session=\"aa7a786afc14b2e7955e3e465ceb65ab\", element=\"8de5b5bd-0137-456b-a46b-8b6129826539\")>, <selenium.webdriver.remote.webelement.WebElement (session=\"aa7a786afc14b2e7955e3e465ceb65ab\", element=\"89f50087-afe9-4a55-8d54-62b3dcbbba80\")>, <selenium.webdriver.remote.webelement.WebElement (session=\"aa7a786afc14b2e7955e3e465ceb65ab\", element=\"bacfc180-de77-4ab6-8d2e-01545cabef8c\")>, <selenium.webdriver.remote.webelement.WebElement (session=\"aa7a786afc14b2e7955e3e465ceb65ab\", element=\"7b5b0d37-aeeb-4b01-9c58-0989ef206db9\")>, <selenium.webdriver.remote.webelement.WebElement (session=\"aa7a786afc14b2e7955e3e465ceb65ab\", element=\"bdcfd853-3f6d-462b-85f1-c5474918d4b6\")>, <selenium.webdriver.remote.webelement.WebElement (session=\"aa7a786afc14b2e7955e3e465ceb65ab\", element=\"01f928aa-a501-4586-b9fe-b002ec0c8e91\")>, <selenium.webdriver.remote.webelement.WebElement (session=\"aa7a786afc14b2e7955e3e465ceb65ab\", element=\"8fc5580f-2cdb-4f73-a928-1eb13a0ab0cf\")>, <selenium.webdriver.remote.webelement.WebElement (session=\"aa7a786afc14b2e7955e3e465ceb65ab\", element=\"6e7829c2-6111-4924-889f-d57b1f1dda93\")>, <selenium.webdriver.remote.webelement.WebElement (session=\"aa7a786afc14b2e7955e3e465ceb65ab\", element=\"017e1c1a-760f-4c8a-8ee4-89fbae5a1be0\")>, <selenium.webdriver.remote.webelement.WebElement (session=\"aa7a786afc14b2e7955e3e465ceb65ab\", element=\"bb98d7fa-0925-4090-ad44-ca0ddae2f9f2\")>, <selenium.webdriver.remote.webelement.WebElement (session=\"aa7a786afc14b2e7955e3e465ceb65ab\", element=\"79f741ca-a6b4-4d4a-b8be-f47d206f8f0a\")>, <selenium.webdriver.remote.webelement.WebElement (session=\"aa7a786afc14b2e7955e3e465ceb65ab\", element=\"d697c887-673c-411f-b025-68d88e462256\")>, <selenium.webdriver.remote.webelement.WebElement (session=\"aa7a786afc14b2e7955e3e465ceb65ab\", element=\"6f0610b6-41ce-4a30-a47c-b042194c405f\")>, <selenium.webdriver.remote.webelement.WebElement (session=\"aa7a786afc14b2e7955e3e465ceb65ab\", element=\"1c621ae0-0246-41af-ad20-7d6ab8ece9ae\")>, <selenium.webdriver.remote.webelement.WebElement (session=\"aa7a786afc14b2e7955e3e465ceb65ab\", element=\"7269f11f-c35f-46ed-bd89-a80bc243a850\")>, <selenium.webdriver.remote.webelement.WebElement (session=\"aa7a786afc14b2e7955e3e465ceb65ab\", element=\"3c9d6b17-287c-43af-b78d-a7216e69638d\")>, <selenium.webdriver.remote.webelement.WebElement (session=\"aa7a786afc14b2e7955e3e465ceb65ab\", element=\"6040657f-cef8-46c0-9e21-e27a2b7279d5\")>, <selenium.webdriver.remote.webelement.WebElement (session=\"aa7a786afc14b2e7955e3e465ceb65ab\", element=\"b851ef67-30bc-4755-83ed-d722dc192806\")>, <selenium.webdriver.remote.webelement.WebElement (session=\"aa7a786afc14b2e7955e3e465ceb65ab\", element=\"d06ef282-bc34-4b62-925f-5d8cec9484ed\")>, <selenium.webdriver.remote.webelement.WebElement (session=\"aa7a786afc14b2e7955e3e465ceb65ab\", element=\"874c0574-d5bd-479d-ba53-6f3f3ba74803\")>, <selenium.webdriver.remote.webelement.WebElement (session=\"aa7a786afc14b2e7955e3e465ceb65ab\", element=\"550c45f1-88d6-4966-8676-c5465410ad00\")>, <selenium.webdriver.remote.webelement.WebElement (session=\"aa7a786afc14b2e7955e3e465ceb65ab\", element=\"fdd9d1fb-6175-4cfb-b8a3-e5222c72e252\")>, <selenium.webdriver.remote.webelement.WebElement (session=\"aa7a786afc14b2e7955e3e465ceb65ab\", element=\"26dfff1d-84b2-4e1e-b200-d60dce09ab35\")>, <selenium.webdriver.remote.webelement.WebElement (session=\"aa7a786afc14b2e7955e3e465ceb65ab\", element=\"1f7eadef-d70b-4b0e-b8b8-c11caad476e5\")>, <selenium.webdriver.remote.webelement.WebElement (session=\"aa7a786afc14b2e7955e3e465ceb65ab\", element=\"75d9af0c-67c1-4df4-ac7a-e3912c08dcc8\")>, <selenium.webdriver.remote.webelement.WebElement (session=\"aa7a786afc14b2e7955e3e465ceb65ab\", element=\"9c3ad081-a3e7-485e-9f3d-afaab0c70002\")>, <selenium.webdriver.remote.webelement.WebElement (session=\"aa7a786afc14b2e7955e3e465ceb65ab\", element=\"8089f3b5-9bd6-4973-b5de-7a6adb0bf3ba\")>, <selenium.webdriver.remote.webelement.WebElement (session=\"aa7a786afc14b2e7955e3e465ceb65ab\", element=\"129d4d9b-1c36-4d72-a517-2fd239e8b9b5\")>, <selenium.webdriver.remote.webelement.WebElement (session=\"aa7a786afc14b2e7955e3e465ceb65ab\", element=\"245d7d99-cfbf-42f0-91aa-4208c3a106f9\")>, <selenium.webdriver.remote.webelement.WebElement (session=\"aa7a786afc14b2e7955e3e465ceb65ab\", element=\"9792831b-51f8-4e18-871e-d6218fbfd065\")>, <selenium.webdriver.remote.webelement.WebElement (session=\"aa7a786afc14b2e7955e3e465ceb65ab\", element=\"d6124448-cdfe-4ddd-9a1a-f04486b958b5\")>, <selenium.webdriver.remote.webelement.WebElement (session=\"aa7a786afc14b2e7955e3e465ceb65ab\", element=\"c6d3980a-1cfd-4cbe-a681-3b53821dc7ae\")>, <selenium.webdriver.remote.webelement.WebElement (session=\"aa7a786afc14b2e7955e3e465ceb65ab\", element=\"5088341d-77e8-4ffe-b04f-7f079acca6a4\")>, <selenium.webdriver.remote.webelement.WebElement (session=\"aa7a786afc14b2e7955e3e465ceb65ab\", element=\"2f2ab6b5-3689-4a6a-984c-fd5b8bce9171\")>, <selenium.webdriver.remote.webelement.WebElement (session=\"aa7a786afc14b2e7955e3e465ceb65ab\", element=\"66cec5a1-0ecb-431a-81f0-4c927c71070b\")>, <selenium.webdriver.remote.webelement.WebElement (session=\"aa7a786afc14b2e7955e3e465ceb65ab\", element=\"ec8e87fb-1a95-4a0f-a90a-8ff2932473e8\")>, <selenium.webdriver.remote.webelement.WebElement (session=\"aa7a786afc14b2e7955e3e465ceb65ab\", element=\"111d2b7d-ebed-4bc5-9b49-fce8173d8683\")>, <selenium.webdriver.remote.webelement.WebElement (session=\"aa7a786afc14b2e7955e3e465ceb65ab\", element=\"57f34d12-2b17-4b05-9d31-4f9bec8c4176\")>, <selenium.webdriver.remote.webelement.WebElement (session=\"aa7a786afc14b2e7955e3e465ceb65ab\", element=\"460abb71-dbdb-4b8a-a6b9-23f6a6125d06\")>, <selenium.webdriver.remote.webelement.WebElement (session=\"aa7a786afc14b2e7955e3e465ceb65ab\", element=\"fc3bc8b3-ac26-432a-a18c-4556003facb6\")>]\n"
     ]
    }
   ],
   "source": [
    "images=driver.find_elements_by_xpath(\"//img[@class='_3togXc']\")\n",
    "print(images)"
   ]
  },
  {
   "cell_type": "code",
   "execution_count": 52,
   "metadata": {},
   "outputs": [
    {
     "name": "stdout",
     "output_type": "stream",
     "text": [
      "https://rukminim1.flixcart.com/image/329/395/k79dd3k0/trouser/9/z/f/30-petfmnspg72520-peter-england-original-imafpjkadratxahw.jpeg?q=50\n",
      "https://rukminim1.flixcart.com/image/329/395/k5msb680/trouser/d/b/n/32-rmts03629-o6-raymond-original-imafz2k5hgrf6wgf.jpeg?q=50\n",
      "https://rukminim1.flixcart.com/image/329/395/k70spzk0/trouser/t/k/j/30-hltr003944-highlander-original-imafpchuh2htysg6.jpeg?q=50\n",
      "https://rukminim1.flixcart.com/image/329/395/k4vmxzk0/trouser/n/f/u/32-fmtr4289-flying-machine-original-imafnhc3pegxsjqk.jpeg?q=50\n",
      "https://rukminim1.flixcart.com/image/329/395/kb9ou4w0/trouser/p/m/e/32-pctfcskp381480-peter-england-original-imafsnpdecg8am4f.jpeg?q=50\n",
      "https://rukminim1.flixcart.com/image/329/395/k7tdj0w0/trouser/e/w/t/32-asyotr2593-arrow-sports-original-imafpwp6gsggm6pn.jpeg?q=50\n",
      "https://rukminim1.flixcart.com/image/329/395/k70spzk0/trouser/b/w/d/30-hltr004080-highlander-original-imafpchrysetnh7u.jpeg?q=50\n",
      "https://rukminim1.flixcart.com/image/329/395/k4irzbk0/trouser/d/k/f/32-lytfcctpt60982-louis-philippe-ath-work-original-imafndhyhswgf23z.jpeg?q=50\n",
      "https://rukminim1.flixcart.com/image/329/395/k70spzk0/trouser/e/a/2/30-hltr004277-highlander-original-imafpchrzmybmvfk.jpeg?q=50\n",
      "https://rukminim1.flixcart.com/image/329/395/k3xcdjk0/trouser/6/n/q/32-fmtr4284-flying-machine-original-imafmw6suugghufg.jpeg?q=50\n",
      "https://rukminim1.flixcart.com/image/329/395/kb6tyfk0/trouser/h/b/a/32-putfusspt20411-peter-england-university-original-imafshfsu8u2jsx6.jpeg?q=50\n",
      "https://rukminim1.flixcart.com/image/329/395/kb9ou4w0/trouser/h/f/t/30-pctfcsspt40443-peter-england-original-imafsnpdchyztdyk.jpeg?q=50\n",
      "https://rukminim1.flixcart.com/image/329/395/k66sh3k0/trouser/j/g/n/32-afyotr0051-arrow-original-imafzzvhnxswhtwh.jpeg?q=50\n",
      "https://rukminim1.flixcart.com/image/329/395/k7nnrm80/trouser/k/k/r/32-fmtro1010-flying-machine-original-imafptfhcchn49nm.jpeg?q=50\n",
      "https://rukminim1.flixcart.com/image/329/395/k070zgw0/trouser/s/h/a/32-86357-0001-levi-s-original-imafjvy49gbndzas.jpeg?q=50\n",
      "https://rukminim1.flixcart.com/image/329/395/k3erngw0/trouser/z/e/6/30-rmts03536-b6-raymond-original-imafmjd6vxg4kkan.jpeg?q=50\n",
      "https://rukminim1.flixcart.com/image/329/395/jxnksy80/trouser/u/d/w/38-combo-trouser-baleno-black-and-cream-bb-ad-av-original-imafgy9h8wabdg6j.jpeg?q=50\n",
      "https://rukminim1.flixcart.com/image/329/395/k47cgi80/trouser/h/g/x/32-attfdcrf292793-allen-solly-original-imafn2yb3mjuuxdd.jpeg?q=50\n",
      "https://rukminim1.flixcart.com/image/329/395/jrz8u4w0/trouser/c/r/y/38-bmw-cotton-trs-ben-martin-original-imafdnrpbaxpp6ya.jpeg?q=50\n",
      "https://rukminim1.flixcart.com/image/329/395/jtuej680/trouser/k/g/u/36-chinojogger-cream-01-urbano-fashion-original-imaff2qrbzhgdw9x.jpeg?q=50\n",
      "https://rukminim1.flixcart.com/image/329/395/k687wy80/trouser/y/s/t/32-putfusspj09315-peter-england-university-original-imafzq28s4qs2zeq.jpeg?q=50\n",
      "https://rukminim1.flixcart.com/image/329/395/k3erngw0/trouser/b/3/f/36-pcty00372-n3-park-avenue-original-imafme5d8pb32gjg.jpeg?q=50\n",
      "https://rukminim1.flixcart.com/image/329/395/k70spzk0/trouser/h/k/u/30-hltr003959-highlander-original-imafpchqmyqyxf8h.jpeg?q=50\n",
      "https://rukminim1.flixcart.com/image/329/395/k20r8nk0/trouser/h/b/v/32-fmtro022-flying-machine-original-imafhcw59epdp7df.jpeg?q=50\n",
      "https://rukminim1.flixcart.com/image/329/395/k1dw70w0/trouser/k/v/w/40-combo-double-classio-fashion-original-imafkevh3dgvryf7.jpeg?q=50\n",
      "https://rukminim1.flixcart.com/image/329/395/k70spzk0/trouser/j/g/r/30-hltr003780-highlander-original-imafpchtherhbwhx.jpeg?q=50\n",
      "https://rukminim1.flixcart.com/image/329/395/k4bms280/trouser/u/3/v/32-rmts03535-g7-raymond-original-imafn9gv3vv4rjkm.jpeg?q=50\n",
      "https://rukminim1.flixcart.com/image/329/395/k5y7tzk0/trouser/n/7/6/32-afyotr0053-arrow-original-imafzhyjjqsyfh49.jpeg?q=50\n",
      "https://rukminim1.flixcart.com/image/329/395/j6v2ky80/trouser/n/z/f/32-ustr6671-u-s-polo-assn-original-imaex8dgh4vgnqqj.jpeg?q=50\n",
      "https://rukminim1.flixcart.com/image/329/395/k1zbssw0/trouser/s/v/g/32-fmtro021-flying-machine-original-imafhcw5aggh2m6r.jpeg?q=50\n",
      "https://rukminim1.flixcart.com/image/329/395/k7usyvk0/trouser/d/4/s/32-putfusspz19003-peter-england-university-original-imafpzy4r34j4geq.jpeg?q=50\n",
      "https://rukminim1.flixcart.com/image/329/395/k0zlsi80/trouser/x/h/a/32-ustro7022-u-s-polo-association-original-imafkz6g9y7zau5u.jpeg?q=50\n",
      "https://rukminim1.flixcart.com/image/329/395/k5msb680/trouser/b/b/f/l-pant4016-olive-crease-clips-original-imafz27h3vzpx88g.jpeg?q=50\n",
      "https://rukminim1.flixcart.com/image/329/395/kasjjww0/trouser/2/s/q/42-112-trouser-lycra-darkblue-aa-ad-av-original-imafsa9f7c7yqhg3.jpeg?q=50\n",
      "https://rukminim1.flixcart.com/image/329/395/k19lvgw0/trouser/v/4/u/40-pmty05570-b6-park-avenue-original-imafkvhhkg3zmdxw.jpeg?q=50\n",
      "https://rukminim1.flixcart.com/image/329/395/trouser/r/6/a/40-blackbelano-aa-ad-av-original-imaeqbhmgqwphbqb.jpeg?q=50\n",
      "https://rukminim1.flixcart.com/image/329/395/k0r15e80/trouser/g/b/y/32-84393-0000-levi-s-original-imafkh75hu2qfcjv.jpeg?q=50\n",
      "https://rukminim1.flixcart.com/image/329/395/k4bms280/trouser/d/w/q/32-astfwcrhh06029-allen-solly-original-imafn8ymzdsatrjs.jpeg?q=50\n",
      "https://rukminim1.flixcart.com/image/329/395/k66sh3k0/trouser/f/y/4/32-afyotr0001-arrow-original-imafz4p4nxrxukeh.jpeg?q=50\n",
      "https://rukminim1.flixcart.com/image/329/395/k1gr2q80/trouser/g/u/u/28-new-classio-fashion-original-imafkchheyxu9dht.jpeg?q=50\n"
     ]
    }
   ],
   "source": [
    "urls=[]\n",
    "for image in images:\n",
    "    source=image.get_attribute('src')\n",
    "    urls.append(source)\n",
    "    print(source)"
   ]
  },
  {
   "cell_type": "code",
   "execution_count": 53,
   "metadata": {},
   "outputs": [
    {
     "name": "stdout",
     "output_type": "stream",
     "text": [
      "<selenium.webdriver.remote.webelement.WebElement (session=\"aa7a786afc14b2e7955e3e465ceb65ab\", element=\"8de5b5bd-0137-456b-a46b-8b6129826539\")>\n"
     ]
    }
   ],
   "source": [
    "images=driver.find_element_by_xpath(\"//img[@class='_3togXc']\")\n",
    "print(images)"
   ]
  },
  {
   "cell_type": "markdown",
   "metadata": {},
   "source": [
    "# Step 4:Using the URLs to download images"
   ]
  },
  {
   "cell_type": "code",
   "execution_count": 54,
   "metadata": {},
   "outputs": [],
   "source": [
    "import shutil\n",
    "import requests"
   ]
  },
  {
   "cell_type": "code",
   "execution_count": 55,
   "metadata": {},
   "outputs": [
    {
     "name": "stdout",
     "output_type": "stream",
     "text": [
      "Downloading 1 of 40 images from page 1\n",
      "Downloading 2 of 40 images from page 1\n",
      "Downloading 3 of 40 images from page 1\n",
      "Downloading 4 of 40 images from page 1\n",
      "Downloading 5 of 40 images from page 1\n",
      "Downloading 6 of 40 images from page 1\n",
      "Downloading 7 of 40 images from page 1\n",
      "Downloading 8 of 40 images from page 1\n",
      "Downloading 9 of 40 images from page 1\n",
      "Downloading 10 of 40 images from page 1\n",
      "Downloading 11 of 40 images from page 1\n",
      "Downloading 12 of 40 images from page 1\n",
      "Downloading 13 of 40 images from page 1\n",
      "Downloading 14 of 40 images from page 1\n",
      "Downloading 15 of 40 images from page 1\n",
      "Downloading 16 of 40 images from page 1\n",
      "Downloading 17 of 40 images from page 1\n",
      "Downloading 18 of 40 images from page 1\n",
      "Downloading 19 of 40 images from page 1\n",
      "Downloading 20 of 40 images from page 1\n",
      "Downloading 21 of 40 images from page 1\n",
      "Downloading 22 of 40 images from page 1\n",
      "Downloading 23 of 40 images from page 1\n",
      "Downloading 24 of 40 images from page 1\n",
      "Downloading 25 of 40 images from page 1\n",
      "Downloading 26 of 40 images from page 1\n",
      "Downloading 27 of 40 images from page 1\n",
      "Downloading 28 of 40 images from page 1\n",
      "Downloading 29 of 40 images from page 1\n",
      "Downloading 30 of 40 images from page 1\n",
      "Downloading 31 of 40 images from page 1\n",
      "Downloading 32 of 40 images from page 1\n",
      "Downloading 33 of 40 images from page 1\n",
      "Downloading 34 of 40 images from page 1\n",
      "Downloading 35 of 40 images from page 1\n",
      "Downloading 36 of 40 images from page 1\n",
      "Downloading 37 of 40 images from page 1\n",
      "Downloading 38 of 40 images from page 1\n",
      "Downloading 39 of 40 images from page 1\n",
      "Downloading 40 of 40 images from page 1\n"
     ]
    }
   ],
   "source": [
    "page=1\n",
    "for index,link in enumerate(urls):\n",
    "    print(\"Downloading {0} of {1} images from page 1\".format(index+1, len(urls)))\n",
    "    response=requests.get(link)\n",
    "    with open('flipkart_trousers/img_{0}{1}.jpeg'.format(index,page),\"wb\") as file:\n",
    "        file.write(response.content)"
   ]
  },
  {
   "cell_type": "code",
   "execution_count": null,
   "metadata": {},
   "outputs": [],
   "source": []
  }
 ],
 "metadata": {
  "kernelspec": {
   "display_name": "Python 3",
   "language": "python",
   "name": "python3"
  },
  "language_info": {
   "codemirror_mode": {
    "name": "ipython",
    "version": 3
   },
   "file_extension": ".py",
   "mimetype": "text/x-python",
   "name": "python",
   "nbconvert_exporter": "python",
   "pygments_lexer": "ipython3",
   "version": "3.7.3"
  }
 },
 "nbformat": 4,
 "nbformat_minor": 2
}
