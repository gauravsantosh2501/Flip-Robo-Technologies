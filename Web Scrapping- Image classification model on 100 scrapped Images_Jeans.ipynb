{
 "cells": [
  {
   "cell_type": "markdown",
   "metadata": {},
   "source": [
    "# Importing Seleium Packages "
   ]
  },
  {
   "cell_type": "code",
   "execution_count": 25,
   "metadata": {},
   "outputs": [
    {
     "name": "stdout",
     "output_type": "stream",
     "text": [
      "Requirement already satisfied: selenium in c:\\users\\gaurav\\anaconda3\\lib\\site-packages (3.141.0)\n",
      "Requirement already satisfied: urllib3 in c:\\users\\gaurav\\anaconda3\\lib\\site-packages (from selenium) (1.24.1)\n",
      "Note: you may need to restart the kernel to use updated packages.\n"
     ]
    }
   ],
   "source": [
    "pip install selenium"
   ]
  },
  {
   "cell_type": "markdown",
   "metadata": {},
   "source": [
    "#                         Web Scrapping using Selenium with Python"
   ]
  },
  {
   "cell_type": "markdown",
   "metadata": {},
   "source": [
    "# Scraping images from Flipkart "
   ]
  },
  {
   "cell_type": "markdown",
   "metadata": {},
   "source": [
    "# Step 1 :Import the libraries and get URL of the Web Page"
   ]
  },
  {
   "cell_type": "code",
   "execution_count": 26,
   "metadata": {},
   "outputs": [],
   "source": [
    "from selenium import webdriver\n",
    "import pandas as pd \n",
    "import os"
   ]
  },
  {
   "cell_type": "code",
   "execution_count": 27,
   "metadata": {},
   "outputs": [
    {
     "name": "stdout",
     "output_type": "stream",
     "text": [
      "Requirement already satisfied: webdriver-manager in c:\\users\\gaurav\\anaconda3\\lib\\site-packages (3.2.1)\n",
      "Requirement already satisfied: configparser in c:\\users\\gaurav\\anaconda3\\lib\\site-packages (from webdriver-manager) (5.0.0)\n",
      "Requirement already satisfied: requests in c:\\users\\gaurav\\anaconda3\\lib\\site-packages (from webdriver-manager) (2.21.0)\n",
      "Requirement already satisfied: crayons in c:\\users\\gaurav\\anaconda3\\lib\\site-packages (from webdriver-manager) (0.3.1)\n",
      "Requirement already satisfied: idna<2.9,>=2.5 in c:\\users\\gaurav\\anaconda3\\lib\\site-packages (from requests->webdriver-manager) (2.8)\n",
      "Requirement already satisfied: urllib3<1.25,>=1.21.1 in c:\\users\\gaurav\\anaconda3\\lib\\site-packages (from requests->webdriver-manager) (1.24.1)\n",
      "Requirement already satisfied: certifi>=2017.4.17 in c:\\users\\gaurav\\anaconda3\\lib\\site-packages (from requests->webdriver-manager) (2019.3.9)\n",
      "Requirement already satisfied: chardet<3.1.0,>=3.0.2 in c:\\users\\gaurav\\anaconda3\\lib\\site-packages (from requests->webdriver-manager) (3.0.4)\n",
      "Requirement already satisfied: colorama in c:\\users\\gaurav\\anaconda3\\lib\\site-packages (from crayons->webdriver-manager) (0.4.1)\n",
      "Note: you may need to restart the kernel to use updated packages.\n"
     ]
    }
   ],
   "source": [
    "pip install webdriver-manager"
   ]
  },
  {
   "cell_type": "code",
   "execution_count": 28,
   "metadata": {},
   "outputs": [],
   "source": [
    "driver=webdriver.Chrome(executable_path = 'C:\\Program Files\\chromedriver.exe')"
   ]
  },
  {
   "cell_type": "code",
   "execution_count": 29,
   "metadata": {},
   "outputs": [],
   "source": [
    "my_page=driver.get(\"https://www.flipkart.com/mens-jeans/pr?sid=clo%2Cvua%2Ck58%2Ci51&otracker%5B%5D=categorytree&otracker%5B%5D=nmenu_sub_Men_0_Jeans&page=3\")"
   ]
  },
  {
   "cell_type": "markdown",
   "metadata": {},
   "source": [
    "# Step 2 :Making the directory to store images"
   ]
  },
  {
   "cell_type": "code",
   "execution_count": 30,
   "metadata": {},
   "outputs": [],
   "source": [
    "def make_directory(dirname):\n",
    "    current_path=os.getcwd()\n",
    "    path = os.path.join(current_path,dirname)\n",
    "    if not os.path.exists(path):\n",
    "        os.makedirs(path)"
   ]
  },
  {
   "cell_type": "code",
   "execution_count": 31,
   "metadata": {},
   "outputs": [],
   "source": [
    "make_directory(\"flipkart_Jeans\")"
   ]
  },
  {
   "cell_type": "markdown",
   "metadata": {},
   "source": [
    "# Step 3 : Scraping image URLs"
   ]
  },
  {
   "cell_type": "code",
   "execution_count": 32,
   "metadata": {},
   "outputs": [
    {
     "name": "stdout",
     "output_type": "stream",
     "text": [
      "[<selenium.webdriver.remote.webelement.WebElement (session=\"4cc1e3d578e837aab6bb6a28acd24e0a\", element=\"db7db8de-9b09-4a85-916f-198fa0ae1a48\")>, <selenium.webdriver.remote.webelement.WebElement (session=\"4cc1e3d578e837aab6bb6a28acd24e0a\", element=\"69498c99-c094-4652-a77c-194d5fd1008d\")>, <selenium.webdriver.remote.webelement.WebElement (session=\"4cc1e3d578e837aab6bb6a28acd24e0a\", element=\"27340ea1-0387-452a-a616-139dcfeda089\")>, <selenium.webdriver.remote.webelement.WebElement (session=\"4cc1e3d578e837aab6bb6a28acd24e0a\", element=\"9779cd60-6c31-429a-afe7-c99942493604\")>, <selenium.webdriver.remote.webelement.WebElement (session=\"4cc1e3d578e837aab6bb6a28acd24e0a\", element=\"0690a784-6edd-4c86-95b3-8219a107074c\")>, <selenium.webdriver.remote.webelement.WebElement (session=\"4cc1e3d578e837aab6bb6a28acd24e0a\", element=\"698b805e-784c-43a3-a4e8-0c118ae441d6\")>, <selenium.webdriver.remote.webelement.WebElement (session=\"4cc1e3d578e837aab6bb6a28acd24e0a\", element=\"2ba6d83f-ee2f-4d54-9bea-7d8523b4e078\")>, <selenium.webdriver.remote.webelement.WebElement (session=\"4cc1e3d578e837aab6bb6a28acd24e0a\", element=\"3ffd78b2-cdb7-41ff-b384-2bf66020cf89\")>, <selenium.webdriver.remote.webelement.WebElement (session=\"4cc1e3d578e837aab6bb6a28acd24e0a\", element=\"60e0a084-fb61-4b6d-86d3-4388bf8ba470\")>, <selenium.webdriver.remote.webelement.WebElement (session=\"4cc1e3d578e837aab6bb6a28acd24e0a\", element=\"11d80b48-a2d8-4aef-a398-1d13df86dc32\")>, <selenium.webdriver.remote.webelement.WebElement (session=\"4cc1e3d578e837aab6bb6a28acd24e0a\", element=\"e8d27d01-8b6d-4123-842f-c551d0c14d6f\")>, <selenium.webdriver.remote.webelement.WebElement (session=\"4cc1e3d578e837aab6bb6a28acd24e0a\", element=\"16078e2e-8c16-481e-b686-30ffa5a11280\")>, <selenium.webdriver.remote.webelement.WebElement (session=\"4cc1e3d578e837aab6bb6a28acd24e0a\", element=\"4c1b676a-2158-4fc2-8b6b-8eb19ce92f1d\")>, <selenium.webdriver.remote.webelement.WebElement (session=\"4cc1e3d578e837aab6bb6a28acd24e0a\", element=\"1a73101a-ed6b-4761-8700-c1e207aa4153\")>, <selenium.webdriver.remote.webelement.WebElement (session=\"4cc1e3d578e837aab6bb6a28acd24e0a\", element=\"496a6e05-415f-4bab-87f3-0ab64ff62279\")>, <selenium.webdriver.remote.webelement.WebElement (session=\"4cc1e3d578e837aab6bb6a28acd24e0a\", element=\"035848cb-d453-4f89-a914-732a160c19aa\")>, <selenium.webdriver.remote.webelement.WebElement (session=\"4cc1e3d578e837aab6bb6a28acd24e0a\", element=\"ffe0f360-165d-4d38-b861-17afed16914c\")>, <selenium.webdriver.remote.webelement.WebElement (session=\"4cc1e3d578e837aab6bb6a28acd24e0a\", element=\"2ae1f0a5-15bd-4a8f-97cb-73b6ec23acbf\")>, <selenium.webdriver.remote.webelement.WebElement (session=\"4cc1e3d578e837aab6bb6a28acd24e0a\", element=\"94a873e8-92f0-48ac-ab67-126aff4ec72e\")>, <selenium.webdriver.remote.webelement.WebElement (session=\"4cc1e3d578e837aab6bb6a28acd24e0a\", element=\"4e3b6def-21fe-41a5-8aea-afd9f3182f05\")>, <selenium.webdriver.remote.webelement.WebElement (session=\"4cc1e3d578e837aab6bb6a28acd24e0a\", element=\"f19351c3-1a58-4f96-87a5-a083c4c4872d\")>, <selenium.webdriver.remote.webelement.WebElement (session=\"4cc1e3d578e837aab6bb6a28acd24e0a\", element=\"757218d5-c0cc-445a-8699-c7cf61d9e9cd\")>, <selenium.webdriver.remote.webelement.WebElement (session=\"4cc1e3d578e837aab6bb6a28acd24e0a\", element=\"910e39b8-a94f-4f32-b3b7-6ab95e560e15\")>, <selenium.webdriver.remote.webelement.WebElement (session=\"4cc1e3d578e837aab6bb6a28acd24e0a\", element=\"8724da11-1a9e-449c-9a1b-6f1d63fb6b9e\")>, <selenium.webdriver.remote.webelement.WebElement (session=\"4cc1e3d578e837aab6bb6a28acd24e0a\", element=\"63639891-28b4-4803-9473-a1330d1a371c\")>, <selenium.webdriver.remote.webelement.WebElement (session=\"4cc1e3d578e837aab6bb6a28acd24e0a\", element=\"a6c389e1-c90b-48ec-b64f-0898bd465bef\")>, <selenium.webdriver.remote.webelement.WebElement (session=\"4cc1e3d578e837aab6bb6a28acd24e0a\", element=\"71e5eae8-d23c-4ed0-9fa6-59426a4638be\")>, <selenium.webdriver.remote.webelement.WebElement (session=\"4cc1e3d578e837aab6bb6a28acd24e0a\", element=\"5fb9c254-53ec-4481-af04-47a6d017f896\")>, <selenium.webdriver.remote.webelement.WebElement (session=\"4cc1e3d578e837aab6bb6a28acd24e0a\", element=\"78b72a73-3b88-4b26-a717-904c5cab3619\")>, <selenium.webdriver.remote.webelement.WebElement (session=\"4cc1e3d578e837aab6bb6a28acd24e0a\", element=\"e8b7bf94-28d8-45fb-ab42-ca4be4f44cd6\")>, <selenium.webdriver.remote.webelement.WebElement (session=\"4cc1e3d578e837aab6bb6a28acd24e0a\", element=\"59d3d73d-3490-4b95-8f48-88ca01bc2f9e\")>, <selenium.webdriver.remote.webelement.WebElement (session=\"4cc1e3d578e837aab6bb6a28acd24e0a\", element=\"1939fb53-c02c-4891-850a-a42c1ed6be1d\")>, <selenium.webdriver.remote.webelement.WebElement (session=\"4cc1e3d578e837aab6bb6a28acd24e0a\", element=\"4f303b8a-9294-41f4-9382-3fe9e37b7d6c\")>, <selenium.webdriver.remote.webelement.WebElement (session=\"4cc1e3d578e837aab6bb6a28acd24e0a\", element=\"b765fdac-4480-4da4-be3c-7f345e199b92\")>, <selenium.webdriver.remote.webelement.WebElement (session=\"4cc1e3d578e837aab6bb6a28acd24e0a\", element=\"c2ed1e50-c778-4385-959f-624f3362e2f7\")>, <selenium.webdriver.remote.webelement.WebElement (session=\"4cc1e3d578e837aab6bb6a28acd24e0a\", element=\"0a114683-d06a-4c21-9b89-ac978af1a191\")>, <selenium.webdriver.remote.webelement.WebElement (session=\"4cc1e3d578e837aab6bb6a28acd24e0a\", element=\"c30bb00d-778a-4a19-ad01-2ae2152750c6\")>, <selenium.webdriver.remote.webelement.WebElement (session=\"4cc1e3d578e837aab6bb6a28acd24e0a\", element=\"2e0f57f8-a9cb-4794-9170-a35f9448c246\")>, <selenium.webdriver.remote.webelement.WebElement (session=\"4cc1e3d578e837aab6bb6a28acd24e0a\", element=\"e2d81a6b-814f-40d9-a684-ce7753353d13\")>, <selenium.webdriver.remote.webelement.WebElement (session=\"4cc1e3d578e837aab6bb6a28acd24e0a\", element=\"9e1e68d8-023e-46cf-8bfd-34089c1459c3\")>]\n"
     ]
    }
   ],
   "source": [
    "images=driver.find_elements_by_xpath(\"//img[@class='_3togXc']\")\n",
    "print(images)"
   ]
  },
  {
   "cell_type": "code",
   "execution_count": 33,
   "metadata": {},
   "outputs": [
    {
     "name": "stdout",
     "output_type": "stream",
     "text": [
      "https://rukminim1.flixcart.com/image/329/395/k0wqwsw0/jean/p/e/f/32-18298-0701-levi-s-original-imafkhgf6hqptbgp.jpeg?q=50\n",
      "https://rukminim1.flixcart.com/image/329/395/k0sgl8w0/jean/d/n/y/32-udjno5157-u-s-polo-association-original-imafkg6z5cqapywc.jpeg?q=50\n",
      "https://rukminim1.flixcart.com/image/329/395/k6jnfrk0/jean/w/8/x/32-fmjno1026-flying-machine-original-imafzydymva5bhzb.jpeg?q=50\n",
      "https://rukminim1.flixcart.com/image/329/395/k66sh3k0/jean/n/z/s/34-fmjno0961-flying-machine-original-imafzhfhgzexddkg.jpeg?q=50\n",
      "https://rukminim1.flixcart.com/image/329/395/k4fx3m80/jean/p/g/4/30-supeps-grey-supernova-inc-original-imafncqyzjqecahk.jpeg?q=50\n",
      "https://rukminim1.flixcart.com/image/329/395/k226oi80/jean/g/f/s/32-kjb-1227-dnft-crbnbl-killer-original-imafhhxaegtggrww.jpeg?q=50\n",
      "https://rukminim1.flixcart.com/image/329/395/k0zlsi80/jean/v/u/f/32-maw19jn199-metronaut-original-imafkmfwudy6fktq.jpeg?q=50\n",
      "https://rukminim1.flixcart.com/image/329/395/k3xcdjk0/jean/8/w/h/32-kjb-1159-slnkft-indg-killer-original-imafmwacv2h5c5hg.jpeg?q=50\n",
      "https://rukminim1.flixcart.com/image/329/395/k5msb680/jean/6/9/j/32-mss20jn003a-metronaut-original-imafzyznpgrw7kwy.jpeg?q=50\n",
      "https://rukminim1.flixcart.com/image/329/395/k70spzk0/jean/g/s/g/30-hljn000717-highlander-original-imafpchy8hhzjexs.jpeg?q=50\n",
      "https://rukminim1.flixcart.com/image/329/395/jydaqa80/jean/g/z/h/38-epssprcrs-lblue-urbano-fashion-original-imafgmhbhhgnucwa.jpeg?q=50\n",
      "https://rukminim1.flixcart.com/image/329/395/jq5iky80/jean/v/v/w/28-ss19jn-s2l-m-pln-bu-campus-sutra-original-imafc7dx2hugrj4x.jpeg?q=50\n",
      "https://rukminim1.flixcart.com/image/329/395/k7p37gw0/jean/6/y/s/32-fmjno1145-flying-machine-original-imafpukxbxem7qqx.jpeg?q=50\n",
      "https://rukminim1.flixcart.com/image/329/395/k70spzk0/jean/f/u/z/30-hljn000618-highlander-original-imafpchp75hypq6t.jpeg?q=50\n",
      "https://rukminim1.flixcart.com/image/329/395/k1118cw0/jean/b/c/c/32-kjb-1201-dnft-bl-killer-original-imafkzvtf2xuwkmp.jpeg?q=50\n",
      "https://rukminim1.flixcart.com/image/329/395/k4vmxzk0/jean/b/z/7/32-kjb-1411-slnkft-bl-killer-original-imafnmgjwn3n9fyu.jpeg?q=50\n",
      "https://rukminim1.flixcart.com/image/329/395/k3yrte80/jean/f/h/y/32-kjb-1222-dnft-bl-killer-original-imafmwacc9xhhprm.jpeg?q=50\n",
      "https://rukminim1.flixcart.com/image/329/395/k70spzk0/jean/r/t/6/30-hljn000685-highlander-original-imafpchxtxu4qbfr.jpeg?q=50\n",
      "https://rukminim1.flixcart.com/image/329/395/k0zlsi80/jean/h/e/5/32-maw19jn115-metronaut-original-imafkmgr2wahrggf.jpeg?q=50\n",
      "https://rukminim1.flixcart.com/image/329/395/k12go7k0/jean/7/j/n/32-fmjno0774-flying-machine-original-imafkq6zkxh56g87.jpeg?q=50\n",
      "https://rukminim1.flixcart.com/image/329/395/k4vmxzk0/jean/f/w/t/32-bss20d009-billion-original-imafnzy8q4ze3z5x.jpeg?q=50\n",
      "https://rukminim1.flixcart.com/image/329/395/k1v1h8w0/jean/u/y/d/32-w37015w22smu-wrangler-original-imafhc9emh7fqcnp.jpeg?q=50\n",
      "https://rukminim1.flixcart.com/image/329/395/k12go7k0/jean/x/t/r/32-mss19ajn008-metronaut-original-imafdg4qf32sr5qb.jpeg?q=50\n",
      "https://rukminim1.flixcart.com/image/329/395/k66sh3k0/jean/z/5/v/36-fmjno0958-flying-machine-original-imafzhfh3kavnvpp.jpeg?q=50\n",
      "https://rukminim1.flixcart.com/image/329/395/k12go7k0/jean/h/z/q/32-maw19jn201-metronaut-original-imafkq66pw4x2haf.jpeg?q=50\n",
      "https://rukminim1.flixcart.com/image/329/395/jzhb24w0/jean/9/s/v/32-udjn0295-u-s-polo-assn-original-imafjhjcfb4gyqvt.jpeg?q=50\n",
      "https://rukminim1.flixcart.com/image/329/395/k6l2vm80/jean/x/6/e/32-fmjno1069-flying-machine-original-imafzzxr7pmfrtp6.jpeg?q=50\n",
      "https://rukminim1.flixcart.com/image/329/395/k7ksvww0/jean/j/p/u/32-fmjno1119-flying-machine-original-imafpz4kjcc6hvna.jpeg?q=50\n",
      "https://rukminim1.flixcart.com/image/329/395/k4vmxzk0/jean/p/c/r/32-kjb-1194-dnft-brw-killer-original-imafnmgjyzfehfug.jpeg?q=50\n",
      "https://rukminim1.flixcart.com/image/329/395/k4d27ww0/jean/a/z/y/32-fmjno0974-flying-machine-original-imafn9semdhx3tvq.jpeg?q=50\n",
      "https://rukminim1.flixcart.com/image/329/395/k5pn6vk0/jean/4/k/w/32-kjb-1405-dnft-olv-killer-original-imafz57uesfgyrrh.jpeg?q=50\n",
      "https://rukminim1.flixcart.com/image/329/395/k3yrte80/jean/n/f/t/32-kjb-1193-dnft-gry-killer-original-imafmzybhq6rwssf.jpeg?q=50\n",
      "https://rukminim1.flixcart.com/image/329/395/k6l2vm80/jean/5/j/b/32-d-jen-2020-white-6-masterly-weft-original-imafpyauff9z7nzt.jpeg?q=50\n",
      "https://rukminim1.flixcart.com/image/329/395/k2p1q4w0/jean/q/g/k/32-fmjno0950-flying-machine-original-imafhy2t9efnhtyc.jpeg?q=50\n",
      "https://rukminim1.flixcart.com/image/329/395/k55n0y80/jean/h/v/v/30-kjb-1239-dnft-bk-killer-original-imafn85rjgq4pzpp.jpeg?q=50\n",
      "https://rukminim1.flixcart.com/image/329/395/jean/e/f/t/lj136-l-zard-37-original-imaezhhswcbzrdyq.jpeg?q=50\n",
      "https://rukminim1.flixcart.com/image/329/395/k0h12fk0/jean/g/m/h/32-w34985w22smu-wrangler-original-imafk9be8ferauht.jpeg?q=50\n",
      "https://rukminim1.flixcart.com/image/329/395/k0zlsi80/jean/4/5/g/32-mss19ajn001-metronaut-original-imafkmgs7aucfpzv.jpeg?q=50\n",
      "https://rukminim1.flixcart.com/image/329/395/k1118cw0/jean/2/m/y/32-mss19ajn005-metronaut-original-imafkmgsz3mnq5ht.jpeg?q=50\n",
      "https://rukminim1.flixcart.com/image/329/395/k2p1q4w0/jean/6/p/h/32-fmjno0903-flying-machine-original-imafhy2sqzp4nh9y.jpeg?q=50\n"
     ]
    }
   ],
   "source": [
    "urls=[]\n",
    "for image in images:\n",
    "    source=image.get_attribute('src')\n",
    "    urls.append(source)\n",
    "    print(source)"
   ]
  },
  {
   "cell_type": "code",
   "execution_count": 34,
   "metadata": {},
   "outputs": [
    {
     "name": "stdout",
     "output_type": "stream",
     "text": [
      "<selenium.webdriver.remote.webelement.WebElement (session=\"4cc1e3d578e837aab6bb6a28acd24e0a\", element=\"db7db8de-9b09-4a85-916f-198fa0ae1a48\")>\n"
     ]
    }
   ],
   "source": [
    "images=driver.find_element_by_xpath(\"//img[@class='_3togXc']\")\n",
    "print(images)"
   ]
  },
  {
   "cell_type": "markdown",
   "metadata": {},
   "source": [
    "# Step 4:Using the URLs to download images"
   ]
  },
  {
   "cell_type": "code",
   "execution_count": 35,
   "metadata": {},
   "outputs": [],
   "source": [
    "import shutil\n",
    "import requests"
   ]
  },
  {
   "cell_type": "code",
   "execution_count": 36,
   "metadata": {},
   "outputs": [
    {
     "name": "stdout",
     "output_type": "stream",
     "text": [
      "Downloading 1 of 40 images from page 1\n",
      "Downloading 2 of 40 images from page 1\n",
      "Downloading 3 of 40 images from page 1\n",
      "Downloading 4 of 40 images from page 1\n",
      "Downloading 5 of 40 images from page 1\n",
      "Downloading 6 of 40 images from page 1\n",
      "Downloading 7 of 40 images from page 1\n",
      "Downloading 8 of 40 images from page 1\n",
      "Downloading 9 of 40 images from page 1\n",
      "Downloading 10 of 40 images from page 1\n",
      "Downloading 11 of 40 images from page 1\n",
      "Downloading 12 of 40 images from page 1\n",
      "Downloading 13 of 40 images from page 1\n",
      "Downloading 14 of 40 images from page 1\n",
      "Downloading 15 of 40 images from page 1\n",
      "Downloading 16 of 40 images from page 1\n",
      "Downloading 17 of 40 images from page 1\n",
      "Downloading 18 of 40 images from page 1\n",
      "Downloading 19 of 40 images from page 1\n",
      "Downloading 20 of 40 images from page 1\n",
      "Downloading 21 of 40 images from page 1\n",
      "Downloading 22 of 40 images from page 1\n",
      "Downloading 23 of 40 images from page 1\n",
      "Downloading 24 of 40 images from page 1\n",
      "Downloading 25 of 40 images from page 1\n",
      "Downloading 26 of 40 images from page 1\n",
      "Downloading 27 of 40 images from page 1\n",
      "Downloading 28 of 40 images from page 1\n",
      "Downloading 29 of 40 images from page 1\n",
      "Downloading 30 of 40 images from page 1\n",
      "Downloading 31 of 40 images from page 1\n",
      "Downloading 32 of 40 images from page 1\n",
      "Downloading 33 of 40 images from page 1\n",
      "Downloading 34 of 40 images from page 1\n",
      "Downloading 35 of 40 images from page 1\n",
      "Downloading 36 of 40 images from page 1\n",
      "Downloading 37 of 40 images from page 1\n",
      "Downloading 38 of 40 images from page 1\n",
      "Downloading 39 of 40 images from page 1\n",
      "Downloading 40 of 40 images from page 1\n"
     ]
    }
   ],
   "source": [
    "page=1\n",
    "for index,link in enumerate(urls):\n",
    "    print(\"Downloading {0} of {1} images from page 1\".format(index+1, len(urls)))\n",
    "    response=requests.get(link)\n",
    "    with open('flipkart_Jeans/img_{0}{1}.jpeg'.format(index,page),\"wb\") as file:\n",
    "        file.write(response.content)"
   ]
  },
  {
   "cell_type": "code",
   "execution_count": null,
   "metadata": {},
   "outputs": [],
   "source": []
  }
 ],
 "metadata": {
  "kernelspec": {
   "display_name": "Python 3",
   "language": "python",
   "name": "python3"
  },
  "language_info": {
   "codemirror_mode": {
    "name": "ipython",
    "version": 3
   },
   "file_extension": ".py",
   "mimetype": "text/x-python",
   "name": "python",
   "nbconvert_exporter": "python",
   "pygments_lexer": "ipython3",
   "version": "3.7.3"
  }
 },
 "nbformat": 4,
 "nbformat_minor": 2
}
